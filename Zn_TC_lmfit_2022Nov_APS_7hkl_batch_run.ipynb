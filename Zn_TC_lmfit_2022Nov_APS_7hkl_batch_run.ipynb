{
 "cells": [
  {
   "cell_type": "code",
   "execution_count": 147,
   "metadata": {},
   "outputs": [
    {
     "name": "stdout",
     "output_type": "stream",
     "text": [
      "The autoreload extension is already loaded. To reload it, use:\n",
      "  %reload_ext autoreload\n"
     ]
    }
   ],
   "source": [
    "%load_ext autoreload \n",
    "%autoreload 2"
   ]
  },
  {
   "attachments": {},
   "cell_type": "markdown",
   "metadata": {},
   "source": [
    "data process for 2022 Nov APS beamline data \n",
    "\n",
    "7 peaks are used to calculate TC: 002, 100, 102, 103, 110, 112, 201 \n",
    "\n",
    "plot 4 peak TC: 002,100,102,103"
   ]
  },
  {
   "cell_type": "code",
   "execution_count": 148,
   "metadata": {},
   "outputs": [],
   "source": [
    "import numpy as np\n",
    "import matplotlib.pyplot as plt\n",
    "import pandas as pd\n",
    "import lmfit\n",
    "import Zn_peak_integration_lmfit_1degree_bg_7peaksTCcal_APS_2022Nov as XRD_lmfit \n",
    "import time\n",
    "import re\n",
    "from datetime import datetime\n",
    "import datetime\n",
    "from tqdm import tqdm"
   ]
  },
  {
   "cell_type": "code",
   "execution_count": 135,
   "metadata": {},
   "outputs": [],
   "source": [
    "def import_file(file_path, file): \n",
    "\n",
    "     filename = file_path + '\\\\' + file \n",
    "\n",
    "     dataframe=pd.read_csv(filename)\n",
    "\n",
    "     return dataframe\n"
   ]
  },
  {
   "cell_type": "code",
   "execution_count": 136,
   "metadata": {},
   "outputs": [],
   "source": [
    "def fitting_7_peaks(dataframe, intervals): \n",
    "     # intervals= [(5.46,5.71), (5.8,6.2), (8.0,8.35), (10.05,10.6),(11.6,11.905),(12.15,12.48)]\n",
    "     # 002, 100, 102, 103-110, 112, 201 \n",
    "\n",
    "     hint = [{'background_c0':9525 , 'background_c1':-938, 'amplitude':2018, \n",
    "               'center':5.582, 'sigma':0.013, 'fraction':0.35},\n",
    "                                        \n",
    "               {'background_c0':5130 , 'background_c1':-171, 'amplitude':15000, \n",
    "               'center':5.982, 'sigma':0.012, 'fraction':0.23},\n",
    "\n",
    "               {'background_c0':6719 , 'background_c1':-505, 'amplitude':5692, \n",
    "               'center':8.186, 'sigma':0.012, 'fraction':0.27},\n",
    "\n",
    "               {'background_c0':3544 , 'background_c1':-127, 'amplitude1':3438,'center1':10.301,'sigma1':0.015,\n",
    "               'fraction1':0.65, 'amplitude2':7841, 'center2':10.372, 'sigma2':0.01,  'fraction2':0.36},\n",
    "\n",
    "               {'background_c0':3908 , 'background_c1':-158, 'amplitude':8464,\n",
    "               'center':11.788,'sigma':0.015,'fraction':0.28},\n",
    "               \n",
    "               {'background_c0':4250 , 'background_c1':-190, 'amplitude':6280, \n",
    "               'center':12.306, 'sigma':0.015, 'fraction':0.285},\n",
    "               \n",
    "               ]\n",
    "     df_params_all,df_best_fits_all, df_differences_all, df_integrals_all = XRD_lmfit.peak_intensities_lmfit(dataframe, intervals, hint)\n",
    "\n",
    "     return df_params_all,df_best_fits_all, df_differences_all, df_integrals_all"
   ]
  },
  {
   "cell_type": "code",
   "execution_count": 137,
   "metadata": {},
   "outputs": [],
   "source": [
    "# plot fiting result of each XRD pattern of in situ data \n",
    "\n",
    "def plot_each_fitting_XRD(dataframe, intervals,file_path,df_best_fits,df_differences): \n",
    "    timestr = \"_\" + time.strftime(\"%Y%m%d-%H%M%S\")\n",
    "\n",
    "    for i in tqdm(range(1,dataframe.shape[1])): \n",
    "        j=dataframe.shape[1]-i\n",
    "        fig=plt.figure(figsize=(15,10))\n",
    "        ax=fig.add_subplot(111)\n",
    "        title=list(dataframe.columns.values)[i].split('obs_')[1].split('_primary')[0]\n",
    "        plt.title(title, fontsize=15)\n",
    "        plt.plot(dataframe.iloc[:,0],dataframe.iloc[:,i],linewidth=3)\n",
    "        plt.xlim(3.5,12.5)\n",
    "        for (start, stop) in intervals: \n",
    "            x=df_best_fits.iloc[:,0]\n",
    "            xx=x[(start<=x) == (x<=stop)]\n",
    "            y_simulation=df_best_fits\n",
    "            yy_simulation=y_simulation[(start<=x) == (x<=stop)].iloc[:,j]\n",
    "            y_difference=df_differences\n",
    "            yy_difference=y_difference[(start<=x) == (x<=stop)].iloc[:,j]\n",
    "\n",
    "            \n",
    "            plt.plot(xx,yy_simulation,label='simulation',linewidth=2)\n",
    "            plt.plot(xx,yy_difference,label='difference',linewidth=2)\n",
    "\n",
    "            plt.legend()\n",
    "\n",
    "        plt.savefig(file_path + '\\\\lmfit_1degree_bg_7hkl_1nelder_formula2area_reverse' +'\\\\lmfit_1degree_bg_7hkl_' + title + timestr + '.png', dpi=300)\n",
    "        # plt.savefig(file_path + '\\\\lmfit_1degree_bg_' + title + timestr + '.svg', dpi=300, format='SVG')\n",
    "        plt.close()\n"
   ]
  },
  {
   "cell_type": "code",
   "execution_count": 138,
   "metadata": {},
   "outputs": [],
   "source": [
    "# extract deposition time from pattern name \n",
    "\n",
    "def extract_depo_time(file_path_meta,start_depo): \n",
    "\n",
    "     #start_depo=datetime.datetime(2023,2,24,7,7,49)\n",
    "\n",
    "     # time_change = datetime.timedelta(minutes=2,seconds=5)\n",
    "\n",
    "     # start_depo_real= start_depo-time_change\n",
    "\n",
    "     time_series=XRD_lmfit.extract_time_abs(file_path_meta,start_depo)\n",
    "     print(time_series)\n",
    "\n",
    "     return time_series"
   ]
  },
  {
   "cell_type": "code",
   "execution_count": 139,
   "metadata": {},
   "outputs": [],
   "source": [
    "# join deoisition time and integrals, and plot time_integrals figure and save plot\n",
    "\n",
    "def join_time_integrals_plot(time_series,df_integrals,file_path,file): \n",
    "\n",
    "      \n",
    "     #time_integrals=pd.merge(left,right,left_index=True,right_index=True,how=\"left\")\n",
    "     \n",
    "     time_integrals = pd.merge(time_series,df_integrals,how=\"inner\", on=\"image_num\")\n",
    "     \n",
    "     print(time_integrals)\n",
    "     time_integrals.columns = ['image_num','Time/min', \"002 peak\", \n",
    "                              \"100 peak\", \"102 peak\", \"103 peak\", \"110 peak\", \n",
    "                              \"112 peak\", \"201 peak\", \n",
    "                              ]    \n",
    "\n",
    "     timestr = \"_\" + time.strftime(\"%Y%m%d-%H%M%S\")\n",
    "\n",
    "     fig=plt.figure(figsize=(9,6))\n",
    "     ax=fig.add_subplot(111)\n",
    "     title='PeakArea_lmfit_' + file.split('.csv')[0] + timestr \n",
    "     plt.title(title, fontsize=10)\n",
    "     # 002, 100, 102, 103-110, 112-200, 201 \n",
    "     plt.scatter(time_integrals[\"Time/min\"], time_integrals[\"002 peak\"], label='002')\n",
    "     plt.scatter(time_integrals[\"Time/min\"], time_integrals[\"100 peak\"], label='100')\n",
    "     plt.scatter(time_integrals[\"Time/min\"], time_integrals[\"102 peak\"], label='102')\n",
    "     plt.scatter(time_integrals[\"Time/min\"], time_integrals[\"103 peak\"], label='103')\n",
    "     plt.scatter(time_integrals[\"Time/min\"], time_integrals[\"110 peak\"], label='110')\n",
    "     plt.scatter(time_integrals[\"Time/min\"], time_integrals[\"112 peak\"], label='112')\n",
    "     plt.scatter(time_integrals[\"Time/min\"], time_integrals[\"201 peak\"], label='201')\n",
    "\n",
    "\n",
    "     plt.xlabel('Time/min',fontsize=12)\n",
    "     plt.ylabel('Peak Area',fontsize=12)\n",
    "\n",
    "     # plt.xlim(0,21)\n",
    "     # plt.ylim(-10,2750)\n",
    "\n",
    "     plt.legend()\n",
    "\n",
    "     plt.savefig(file_path + '\\\\PeakArea_lmfit_1degree_bg_7hkl_' + file.split('.csv')[0] + timestr + '.png', dpi=300)\n",
    "\n",
    "     return time_integrals \n"
   ]
  },
  {
   "cell_type": "code",
   "execution_count": 140,
   "metadata": {},
   "outputs": [],
   "source": [
    "\n",
    "#simulated_Zn = [1, 0.6262055, 2.83950711, 0.48685383]\n",
    "\n",
    "def calculate_all_TC(time_integrals): \n",
    "\n",
    "     simulated_Zn = {\"(002)\": 1, \"(100)\": 0.623002, \"(101)\": 2.822881, \"(102)\": 0.481876, \"(103)\": 0.647973, \n",
    "                    \"(110)\": 0.424383, \"(004)\": 0.103752, \"(112)\": 0.510745, \"(200)\": 0.058331, \"(201)\": 0.318444,\n",
    "                    \"(104)\": 0.092161, \"(202)\": 0.077218, \"(203)\": 0.145904, \"(105)\": 0.121085, \"(114)\": 0.157887,\n",
    "                    \"(210)\": 0.032774,\"(211)\": 0.185132,\"(204)\": 0.0272}\n",
    "\n",
    "\n",
    "     time_integrals_TC = XRD_lmfit.calculate_TC(time_integrals, simulated_Zn)\n",
    "\n",
    "     return time_integrals_TC\n",
    "\n"
   ]
  },
  {
   "cell_type": "code",
   "execution_count": 141,
   "metadata": {},
   "outputs": [],
   "source": [
    "\n",
    "def plot_time_TC(time_integrals_TC,file_path,file): \n",
    "\n",
    "     timestr = \"_\" + time.strftime(\"%Y%m%d-%H%M%S\")\n",
    "     \n",
    "     title='PeakArea_lmfit_7hkl_' + file.split('.csv')[0] + timestr \n",
    "\n",
    "     integrals=time_integrals_TC\n",
    "\n",
    "     fig=plt.figure(figsize=(9,6))\n",
    "     ax=fig.add_subplot(111)\n",
    "     plt.xlabel('Time/min',fontsize=12)\n",
    "     ax.tick_params(width=2)\n",
    "     for axis in ['top','bottom','left','right']:\n",
    "          ax.spines[axis].set_linewidth(2)\n",
    "\n",
    "     plt.ylabel('Texture Coefficient',fontsize=16)\n",
    "     plt.xticks(fontsize=12)\n",
    "     plt.yticks(fontsize=12)\n",
    "     ax.set_ylim([0,2])\n",
    "\n",
    "     plt.plot(integrals[\"Time/min\"],(integrals[\"002 peak_TC\"]),'o',label='002 TC')\n",
    "     plt.plot(integrals[\"Time/min\"],(integrals[\"100 peak_TC\"]),'o',label='100 TC')\n",
    "     plt.plot(integrals[\"Time/min\"],(integrals[\"102 peak_TC\"]),'o',label='102 TC')\n",
    "     plt.plot(integrals[\"Time/min\"],(integrals[\"103 peak_TC\"]),'o',label='103 TC')\n",
    "     # plt.plot(integrals[\"Time/min\"],(integrals[\"110 peak_TC\"]),'o',label='110 TC')\n",
    "     # plt.plot(integrals[\"Time/min\"],(integrals[\"112 peak_TC\"]),'o',label='112 TC')\n",
    "     # plt.plot(integrals[\"Time/min\"],(integrals[\"201 peak_TC\"]),'o',label='201 TC') \n",
    "\n",
    "     plt.legend(ncol=2,markerscale=2,frameon=False,fontsize=16)\n",
    "     fig.suptitle(title, fontsize=12)\n",
    "     plt.tight_layout()\n",
    "\n",
    "     # plt.xlim(0,21)\n",
    "     plt.ylim(0,2)\n",
    "     plt.legend(loc='lower right')\n",
    "     timestr = \"_\" + time.strftime(\"%Y%m%d-%H%M%S\")\n",
    "\n",
    "     fig.savefig(file_path + '\\\\TC_lmfit_1degree_bg_7hkl_' + file.split('.csv')[0] + timestr + '.png', dpi=300)"
   ]
  },
  {
   "cell_type": "code",
   "execution_count": 142,
   "metadata": {},
   "outputs": [],
   "source": [
    "# save fitting results \n",
    "def save_all_data(time_integrals_TC,df_best_fits,df_differences,df_params,file_path,file): \n",
    "    timestr = \"_\" + time.strftime(\"%Y%m%d-%H%M%S\")\n",
    "    with pd.ExcelWriter(file_path + '\\\\' + 'lmfit_1degree_bg_7hkl_' + file.split('.csv')[0] + timestr + '.xlsx') as writer:\n",
    "    \n",
    "        # use to_excel function and specify the sheet_name and index\n",
    "        # to store the dataframe in specified sheet\n",
    "        time_integrals_TC.to_excel(writer, sheet_name=\"time_integrals_TC\", float_format='%.5f',index=False)\n",
    "        df_best_fits.to_excel(writer, sheet_name=\"best_fits\", float_format='%.5f',index=False)\n",
    "        df_differences.to_excel(writer, sheet_name=\"differences\", float_format='%.5f',index=False)\n",
    "        df_params.to_excel(writer, sheet_name=\"params\", float_format='%.5f',index=False)"
   ]
  },
  {
   "cell_type": "code",
   "execution_count": null,
   "metadata": {},
   "outputs": [],
   "source": []
  },
  {
   "cell_type": "code",
   "execution_count": 143,
   "metadata": {},
   "outputs": [],
   "source": [
    "def do_all(file_path, file, start_depo, intervals, file_path_meta):\n",
    "\n",
    "     \n",
    "    \n",
    "     dataframe=import_file(file_path, file)\n",
    "\n",
    "     df_params_all,df_best_fits_all, df_differences_all, df_integrals_all = fitting_7_peaks(dataframe, intervals)\n",
    "\n",
    "     print('\\n')\n",
    "     print('start plotting/saving fitted XRD curves')\n",
    "\n",
    "     plot_each_fitting_XRD(dataframe, intervals,file_path,df_best_fits_all,df_differences_all)\n",
    "\n",
    "     print(df_integrals_all)\n",
    "\n",
    "     time_series = extract_depo_time(file_path_meta,start_depo)\n",
    "\n",
    "     print(time_series)\n",
    "\n",
    "     time_integrals = join_time_integrals_plot(time_series,df_integrals_all,file_path,file)\n",
    "\n",
    "     print(time_integrals)\n",
    "\n",
    "     time_integrals_TC = calculate_all_TC(time_integrals)\n",
    "\n",
    "     plot_time_TC(time_integrals_TC,file_path,file) \n",
    "\n",
    "     save_all_data(time_integrals_TC,df_best_fits_all,df_differences_all,df_params_all,file_path,file)\n",
    "\n",
    "     print('\\n')\n",
    "     print('Done! All results saved! ^^')"
   ]
  },
  {
   "cell_type": "code",
   "execution_count": null,
   "metadata": {},
   "outputs": [],
   "source": []
  },
  {
   "cell_type": "code",
   "execution_count": null,
   "metadata": {},
   "outputs": [],
   "source": [
    "file_path=r'D:\\APS2022Nov\\YM_Zn_depo\\YM_Zn_depo1_2cmZn_Cusub_1MZnSO4\\YM_Zn_depo1_2cmZn_Cusub_1MZnSO4_S1'\n",
    "\n",
    "file=r'YM_Zn_depo1_2cmZn_Cusub_1MZnSO4_S1_P1.csv'\n",
    "\n",
    "start_depo='11/09/2022 03:46:08 AM'\n",
    "\n",
    "intervals= [(5.46,5.71), (5.8,6.2), (8.0,8.35), (10.05,10.6),(11.6,11.905),(12.15,12.48)]\n",
    "\n",
    "# 002, 100, 102, 103-110, 112, 201 \n",
    "\n",
    "file_path_meta=r'D:\\APS2022Nov\\YM_Zn_depo\\YM_Zn_depo1_2cmZn_Cusub_1MZnSO4\\YM_Zn_depo1_raw_data\\S1P1'\n",
    "\n",
    "do_all(file_path, file, start_depo, intervals, file_path_meta)\n",
    "\n",
    "\n",
    "\n"
   ]
  },
  {
   "cell_type": "code",
   "execution_count": null,
   "metadata": {},
   "outputs": [],
   "source": []
  },
  {
   "cell_type": "code",
   "execution_count": null,
   "metadata": {},
   "outputs": [],
   "source": [
    "file_path=r'D:\\APS2022Nov\\YM_Zn_depo\\YM_Zn_depo1_2cmZn_Cusub_1MZnSO4\\YM_Zn_depo1_2cmZn_Cusub_1MZnSO4_S1'\n",
    "\n",
    "file=r'YM_Zn_depo1_2cmZn_Cusub_1MZnSO4_S1_P2.csv'\n",
    "\n",
    "start_depo='11/09/2022 03:46:08 AM'\n",
    "\n",
    "intervals= [(5.46,5.71), (5.8,6.2), (8.0,8.35), (10.05,10.6),(11.6,11.905),(12.15,12.48)]\n",
    "\n",
    "# 002, 100, 102, 103-110, 112, 201 \n",
    "\n",
    "file_path_meta=r'D:\\APS2022Nov\\YM_Zn_depo\\YM_Zn_depo1_2cmZn_Cusub_1MZnSO4\\YM_Zn_depo1_raw_data\\S1P2'\n",
    "\n",
    "do_all(file_path, file, start_depo, intervals, file_path_meta)"
   ]
  },
  {
   "cell_type": "code",
   "execution_count": null,
   "metadata": {},
   "outputs": [],
   "source": [
    "file_path=r'D:\\APS2022Nov\\YM_Zn_depo\\YM_Zn_depo1_2cmZn_Cusub_1MZnSO4\\YM_Zn_depo1_2cmZn_Cusub_1MZnSO4_S1'\n",
    "\n",
    "file=r'YM_Zn_depo1_2cmZn_Cusub_1MZnSO4_S1_P3.csv'\n",
    "\n",
    "start_depo='11/09/2022 03:46:08 AM'\n",
    "\n",
    "intervals= [(5.46,5.71), (5.8,6.2), (8.0,8.35), (10.05,10.6),(11.6,11.905),(12.15,12.48)]\n",
    "\n",
    "# 002, 100, 102, 103-110, 112, 201 \n",
    "\n",
    "file_path_meta=r'D:\\APS2022Nov\\YM_Zn_depo\\YM_Zn_depo1_2cmZn_Cusub_1MZnSO4\\YM_Zn_depo1_raw_data\\S1P3'\n",
    "\n",
    "do_all(file_path, file, start_depo, intervals, file_path_meta)\n"
   ]
  },
  {
   "cell_type": "code",
   "execution_count": null,
   "metadata": {},
   "outputs": [],
   "source": [
    "file_path=r'D:\\APS2022Nov\\YM_Zn_depo\\YM_Zn_depo1_2cmZn_Cusub_1MZnSO4\\YM_Zn_depo1_2cmZn_Cusub_1MZnSO4_S1'\n",
    "\n",
    "file=r'YM_Zn_depo1_2cmZn_Cusub_1MZnSO4_S1_P4.csv'\n",
    "\n",
    "start_depo='11/09/2022 03:46:08 AM'\n",
    "\n",
    "intervals= [(5.46,5.71), (5.8,6.2), (8.0,8.35), (10.05,10.6),(11.6,11.905),(12.15,12.48)]\n",
    "\n",
    "# 002, 100, 102, 103-110, 112, 201 \n",
    "\n",
    "file_path_meta=r'D:\\APS2022Nov\\YM_Zn_depo\\YM_Zn_depo1_2cmZn_Cusub_1MZnSO4\\YM_Zn_depo1_raw_data\\S1P4'\n",
    "\n",
    "do_all(file_path, file, start_depo, intervals, file_path_meta)"
   ]
  },
  {
   "cell_type": "code",
   "execution_count": null,
   "metadata": {},
   "outputs": [],
   "source": [
    "file_path=r'D:\\APS2022Nov\\YM_Zn_depo\\YM_Zn_depo1_2cmZn_Cusub_1MZnSO4\\YM_Zn_depo1_2cmZn_Cusub_1MZnSO4_S1'\n",
    "\n",
    "file=r'YM_Zn_depo1_2cmZn_Cusub_1MZnSO4_S1_P5.csv'\n",
    "\n",
    "start_depo='11/09/2022 03:46:08 AM'\n",
    "\n",
    "intervals= [(5.46,5.71), (5.8,6.2), (8.0,8.35), (10.05,10.6),(11.6,11.905),(12.15,12.48)]\n",
    "\n",
    "# 002, 100, 102, 103-110, 112, 201 \n",
    "\n",
    "file_path_meta=r'D:\\APS2022Nov\\YM_Zn_depo\\YM_Zn_depo1_2cmZn_Cusub_1MZnSO4\\YM_Zn_depo1_raw_data\\S1P5'\n",
    "\n",
    "do_all(file_path, file, start_depo, intervals, file_path_meta)"
   ]
  },
  {
   "cell_type": "code",
   "execution_count": null,
   "metadata": {},
   "outputs": [],
   "source": [
    "file_path=r'D:\\APS2022Nov\\YM_Zn_depo\\YM_Zn_depo1_2cmZn_Cusub_1MZnSO4\\YM_Zn_depo1_2cmZn_Cusub_1MZnSO4_S1'\n",
    "\n",
    "file=r'YM_Zn_depo1_2cmZn_Cusub_1MZnSO4_S1_P6.csv'\n",
    "\n",
    "start_depo='11/09/2022 03:46:08 AM'\n",
    "\n",
    "intervals= [(5.46,5.71), (5.8,6.2), (8.0,8.35), (10.05,10.6),(11.6,11.905),(12.15,12.48)]\n",
    "\n",
    "# 002, 100, 102, 103-110, 112, 201 \n",
    "\n",
    "file_path_meta=r'D:\\APS2022Nov\\YM_Zn_depo\\YM_Zn_depo1_2cmZn_Cusub_1MZnSO4\\YM_Zn_depo1_raw_data\\S1P6'\n",
    "\n",
    "do_all(file_path, file, start_depo, intervals, file_path_meta)"
   ]
  },
  {
   "cell_type": "code",
   "execution_count": 153,
   "metadata": {},
   "outputs": [
    {
     "name": "stdout",
     "output_type": "stream",
     "text": [
      "start extracting image_num:\n"
     ]
    },
    {
     "name": "stderr",
     "output_type": "stream",
     "text": [
      "100%|██████████| 9/9 [00:00<?, ?it/s]\n"
     ]
    },
    {
     "name": "stdout",
     "output_type": "stream",
     "text": [
      "['x', '00001', '00002', '00003', '00004', '00005', '00006', '00007', '00008']\n",
      "\n",
      "\n",
      "start fitting XRD curves:\n"
     ]
    },
    {
     "name": "stderr",
     "output_type": "stream",
     "text": [
      "100%|██████████| 8/8 [00:02<00:00,  3.83it/s]\n"
     ]
    },
    {
     "name": "stdout",
     "output_type": "stream",
     "text": [
      "fitted interval:  [5.46, 5.71]\n"
     ]
    },
    {
     "name": "stderr",
     "output_type": "stream",
     "text": [
      "100%|██████████| 8/8 [00:04<00:00,  1.99it/s]\n"
     ]
    },
    {
     "name": "stdout",
     "output_type": "stream",
     "text": [
      "fitted interval:  [5.8, 6.2]\n"
     ]
    },
    {
     "name": "stderr",
     "output_type": "stream",
     "text": [
      "100%|██████████| 8/8 [00:04<00:00,  1.90it/s]\n"
     ]
    },
    {
     "name": "stdout",
     "output_type": "stream",
     "text": [
      "fitted interval:  [8.0, 8.35]\n"
     ]
    },
    {
     "name": "stderr",
     "output_type": "stream",
     "text": [
      "100%|██████████| 8/8 [00:12<00:00,  1.54s/it]\n"
     ]
    },
    {
     "name": "stdout",
     "output_type": "stream",
     "text": [
      "fitted interval:  [10.05, 10.6]\n"
     ]
    },
    {
     "name": "stderr",
     "output_type": "stream",
     "text": [
      "100%|██████████| 8/8 [00:01<00:00,  4.19it/s]\n"
     ]
    },
    {
     "name": "stdout",
     "output_type": "stream",
     "text": [
      "fitted interval:  [11.6, 11.905]\n"
     ]
    },
    {
     "name": "stderr",
     "output_type": "stream",
     "text": [
      "100%|██████████| 8/8 [00:01<00:00,  4.20it/s]\n"
     ]
    },
    {
     "name": "stdout",
     "output_type": "stream",
     "text": [
      "fitted interval:  [12.15, 12.48]\n",
      "\n",
      "\n",
      "start plotting/saving fitted XRD curves\n"
     ]
    },
    {
     "name": "stderr",
     "output_type": "stream",
     "text": [
      "100%|██████████| 8/8 [00:17<00:00,  2.19s/it]\n"
     ]
    },
    {
     "name": "stdout",
     "output_type": "stream",
     "text": [
      "   image_num  [5.46, 5.71]    [5.8, 6.2]   [8.0, 8.35]  [10.05, 10.6]_1  \\\n",
      "0          1      0.887667  4.778260e-13  8.945265e-14     4.833572e-14   \n",
      "1          2      7.542899  3.290950e+00  1.519077e+00     4.258953e+00   \n",
      "2          3     18.913903  9.627350e+00  6.309922e+00     9.573552e+00   \n",
      "3          4     26.853543  1.494762e+01  1.064267e+01     1.440237e+01   \n",
      "4          5     37.949705  2.218363e+01  1.482258e+01     1.923623e+01   \n",
      "5          6     43.939930  2.625825e+01  1.828563e+01     2.380369e+01   \n",
      "6          7     49.811288  3.301691e+01  2.274792e+01     2.828108e+01   \n",
      "7          8     57.848695  3.775139e+01  2.568643e+01     3.207704e+01   \n",
      "\n",
      "   [10.05, 10.6]_2  [11.6, 11.905]  [12.15, 12.48]  \n",
      "0         0.000000    4.829857e-12    2.697380e-12  \n",
      "1         3.326561    3.831305e+00    1.654397e+00  \n",
      "2         7.796771    8.006895e+00    4.999308e+00  \n",
      "3        12.040760    1.380031e+01    8.703808e+00  \n",
      "4        16.914126    1.735425e+01    1.139445e+01  \n",
      "5        19.273441    2.087749e+01    1.412855e+01  \n",
      "6        22.501232    2.537398e+01    1.697337e+01  \n",
      "7        27.126717    2.948159e+01    1.922191e+01  \n",
      "   image_num   time_abs\n",
      "0          1  -0.878883\n",
      "1          2   3.121850\n",
      "2          3   7.122100\n",
      "3          4  11.122567\n",
      "4          5  15.119583\n",
      "5          6  19.120033\n",
      "6          7  23.120583\n",
      "7          8  27.121050\n",
      "   image_num   time_abs\n",
      "0          1  -0.878883\n",
      "1          2   3.121850\n",
      "2          3   7.122100\n",
      "3          4  11.122567\n",
      "4          5  15.119583\n",
      "5          6  19.120033\n",
      "6          7  23.120583\n",
      "7          8  27.121050\n",
      "   image_num   time_abs  [5.46, 5.71]    [5.8, 6.2]   [8.0, 8.35]  \\\n",
      "0          1  -0.878883      0.887667  4.778260e-13  8.945265e-14   \n",
      "1          2   3.121850      7.542899  3.290950e+00  1.519077e+00   \n",
      "2          3   7.122100     18.913903  9.627350e+00  6.309922e+00   \n",
      "3          4  11.122567     26.853543  1.494762e+01  1.064267e+01   \n",
      "4          5  15.119583     37.949705  2.218363e+01  1.482258e+01   \n",
      "5          6  19.120033     43.939930  2.625825e+01  1.828563e+01   \n",
      "6          7  23.120583     49.811288  3.301691e+01  2.274792e+01   \n",
      "7          8  27.121050     57.848695  3.775139e+01  2.568643e+01   \n",
      "\n",
      "   [10.05, 10.6]_1  [10.05, 10.6]_2  [11.6, 11.905]  [12.15, 12.48]  \n",
      "0     4.833572e-14         0.000000    4.829857e-12    2.697380e-12  \n",
      "1     4.258953e+00         3.326561    3.831305e+00    1.654397e+00  \n",
      "2     9.573552e+00         7.796771    8.006895e+00    4.999308e+00  \n",
      "3     1.440237e+01        12.040760    1.380031e+01    8.703808e+00  \n",
      "4     1.923623e+01        16.914126    1.735425e+01    1.139445e+01  \n",
      "5     2.380369e+01        19.273441    2.087749e+01    1.412855e+01  \n",
      "6     2.828108e+01        22.501232    2.537398e+01    1.697337e+01  \n",
      "7     3.207704e+01        27.126717    2.948159e+01    1.922191e+01  \n",
      "   image_num   Time/min   002 peak      100 peak      102 peak      103 peak  \\\n",
      "0          1  -0.878883   0.887667  4.778260e-13  8.945265e-14  4.833572e-14   \n",
      "1          2   3.121850   7.542899  3.290950e+00  1.519077e+00  4.258953e+00   \n",
      "2          3   7.122100  18.913903  9.627350e+00  6.309922e+00  9.573552e+00   \n",
      "3          4  11.122567  26.853543  1.494762e+01  1.064267e+01  1.440237e+01   \n",
      "4          5  15.119583  37.949705  2.218363e+01  1.482258e+01  1.923623e+01   \n",
      "5          6  19.120033  43.939930  2.625825e+01  1.828563e+01  2.380369e+01   \n",
      "6          7  23.120583  49.811288  3.301691e+01  2.274792e+01  2.828108e+01   \n",
      "7          8  27.121050  57.848695  3.775139e+01  2.568643e+01  3.207704e+01   \n",
      "\n",
      "    110 peak      112 peak      201 peak  \n",
      "0   0.000000  4.829857e-12  2.697380e-12  \n",
      "1   3.326561  3.831305e+00  1.654397e+00  \n",
      "2   7.796771  8.006895e+00  4.999308e+00  \n",
      "3  12.040760  1.380031e+01  8.703808e+00  \n",
      "4  16.914126  1.735425e+01  1.139445e+01  \n",
      "5  19.273441  2.087749e+01  1.412855e+01  \n",
      "6  22.501232  2.537398e+01  1.697337e+01  \n",
      "7  27.126717  2.948159e+01  1.922191e+01  \n",
      "\n",
      "\n",
      "Done! All results saved! ^^\n"
     ]
    },
    {
     "data": {
      "image/png": "[encoded data removed]",
      "text/plain": [
       "<Figure size 648x432 with 1 Axes>"
      ]
     },
     "metadata": {
      "needs_background": "light"
     },
     "output_type": "display_data"
    },
    {
     "data": {
      "image/png": "[encoded data removed]",
      "text/plain": [
       "<Figure size 648x432 with 1 Axes>"
      ]
     },
     "metadata": {
      "needs_background": "light"
     },
     "output_type": "display_data"
    }
   ],
   "source": [
    "file_path=r'D:\\APS2022Nov\\YM_Zn_depo\\YM_Zn_depo1_2cmZn_Cusub_1MZnSO4\\YM_Zn_depo1_2cmZn_Cusub_1MZnSO4_S1'\n",
    "\n",
    "file=r'YM_Zn_depo1_2cmZn_Cusub_1MZnSO4_S1_P7.csv'\n",
    "\n",
    "start_depo='11/09/2022 03:46:08 AM'\n",
    "\n",
    "intervals= [(5.46,5.71), (5.8,6.2), (8.0,8.35), (10.05,10.6),(11.6,11.905),(12.15,12.48)]\n",
    "\n",
    "# 002, 100, 102, 103-110, 112, 201 \n",
    "\n",
    "file_path_meta=r'D:\\APS2022Nov\\YM_Zn_depo\\YM_Zn_depo1_2cmZn_Cusub_1MZnSO4\\YM_Zn_depo1_raw_data\\S1P7'\n",
    "\n",
    "do_all(file_path, file, start_depo, intervals, file_path_meta)"
   ]
  },
  {
   "cell_type": "code",
   "execution_count": 152,
   "metadata": {},
   "outputs": [
    {
     "name": "stdout",
     "output_type": "stream",
     "text": [
      "start extracting image_num:\n"
     ]
    },
    {
     "name": "stderr",
     "output_type": "stream",
     "text": [
      "100%|██████████| 9/9 [00:00<00:00, 9032.96it/s]\n"
     ]
    },
    {
     "name": "stdout",
     "output_type": "stream",
     "text": [
      "['x', '00001', '00002', '00003', '00004', '00005', '00006', '00007', '00008']\n",
      "\n",
      "\n",
      "start fitting XRD curves:\n"
     ]
    },
    {
     "name": "stderr",
     "output_type": "stream",
     "text": [
      "100%|██████████| 8/8 [00:04<00:00,  1.69it/s]\n"
     ]
    },
    {
     "name": "stdout",
     "output_type": "stream",
     "text": [
      "fitted interval:  [5.46, 5.71]\n"
     ]
    },
    {
     "name": "stderr",
     "output_type": "stream",
     "text": [
      "100%|██████████| 8/8 [00:03<00:00,  2.33it/s]\n"
     ]
    },
    {
     "name": "stdout",
     "output_type": "stream",
     "text": [
      "fitted interval:  [5.8, 6.2]\n"
     ]
    },
    {
     "name": "stderr",
     "output_type": "stream",
     "text": [
      "100%|██████████| 8/8 [00:02<00:00,  3.14it/s]\n"
     ]
    },
    {
     "name": "stdout",
     "output_type": "stream",
     "text": [
      "fitted interval:  [8.0, 8.35]\n"
     ]
    },
    {
     "name": "stderr",
     "output_type": "stream",
     "text": [
      "100%|██████████| 8/8 [00:11<00:00,  1.43s/it]\n"
     ]
    },
    {
     "name": "stdout",
     "output_type": "stream",
     "text": [
      "fitted interval:  [10.05, 10.6]\n"
     ]
    },
    {
     "name": "stderr",
     "output_type": "stream",
     "text": [
      "100%|██████████| 8/8 [00:02<00:00,  3.36it/s]\n"
     ]
    },
    {
     "name": "stdout",
     "output_type": "stream",
     "text": [
      "fitted interval:  [11.6, 11.905]\n"
     ]
    },
    {
     "name": "stderr",
     "output_type": "stream",
     "text": [
      "100%|██████████| 8/8 [00:02<00:00,  2.94it/s]\n"
     ]
    },
    {
     "name": "stdout",
     "output_type": "stream",
     "text": [
      "fitted interval:  [12.15, 12.48]\n",
      "\n",
      "\n",
      "start plotting/saving fitted XRD curves\n"
     ]
    },
    {
     "name": "stderr",
     "output_type": "stream",
     "text": [
      "100%|██████████| 8/8 [00:16<00:00,  2.05s/it]\n"
     ]
    },
    {
     "name": "stdout",
     "output_type": "stream",
     "text": [
      "   image_num  [5.46, 5.71]    [5.8, 6.2]   [8.0, 8.35]  [10.05, 10.6]_1  \\\n",
      "0          1      0.577078  2.041410e-12  1.553126e-13     1.469458e-14   \n",
      "1          2      4.146771  1.483456e+00  5.841648e-01     1.722818e+00   \n",
      "2          3     17.183406  9.071206e+00  6.728276e+00     9.642637e+00   \n",
      "3          4     34.816931  2.268983e+01  1.473409e+01     1.799341e+01   \n",
      "4          5     55.764374  3.547012e+01  2.377700e+01     2.734917e+01   \n",
      "5          6     69.110028  4.392660e+01  3.152941e+01     3.744126e+01   \n",
      "6          7     87.666107  5.522284e+01  3.752609e+01     4.528879e+01   \n",
      "7          8     96.823899  7.652955e+01  4.414821e+01     5.203549e+01   \n",
      "\n",
      "   [10.05, 10.6]_2  [11.6, 11.905]  [12.15, 12.48]  \n",
      "0         0.000000        0.259616    3.878950e-14  \n",
      "1         1.420923        1.574424    6.937310e-01  \n",
      "2         8.297255        8.122331    5.210989e+00  \n",
      "3        15.262659       16.852543    1.093284e+01  \n",
      "4        23.735419       24.401992    1.644862e+01  \n",
      "5        29.694418       33.630928    2.223828e+01  \n",
      "6        36.479971       41.821362    2.726294e+01  \n",
      "7        44.904485       47.823286    3.386632e+01  \n",
      "   image_num   time_abs\n",
      "0          1  -0.372150\n",
      "1          2   3.624967\n",
      "2          3   7.628767\n",
      "3          4  11.625967\n",
      "4          5  15.626283\n",
      "5          6  19.626850\n",
      "6          7  23.623900\n",
      "7          8  27.624400\n",
      "   image_num   time_abs\n",
      "0          1  -0.372150\n",
      "1          2   3.624967\n",
      "2          3   7.628767\n",
      "3          4  11.625967\n",
      "4          5  15.626283\n",
      "5          6  19.626850\n",
      "6          7  23.623900\n",
      "7          8  27.624400\n",
      "   image_num   time_abs  [5.46, 5.71]    [5.8, 6.2]   [8.0, 8.35]  \\\n",
      "0          1  -0.372150      0.577078  2.041410e-12  1.553126e-13   \n",
      "1          2   3.624967      4.146771  1.483456e+00  5.841648e-01   \n",
      "2          3   7.628767     17.183406  9.071206e+00  6.728276e+00   \n",
      "3          4  11.625967     34.816931  2.268983e+01  1.473409e+01   \n",
      "4          5  15.626283     55.764374  3.547012e+01  2.377700e+01   \n",
      "5          6  19.626850     69.110028  4.392660e+01  3.152941e+01   \n",
      "6          7  23.623900     87.666107  5.522284e+01  3.752609e+01   \n",
      "7          8  27.624400     96.823899  7.652955e+01  4.414821e+01   \n",
      "\n",
      "   [10.05, 10.6]_1  [10.05, 10.6]_2  [11.6, 11.905]  [12.15, 12.48]  \n",
      "0     1.469458e-14         0.000000        0.259616    3.878950e-14  \n",
      "1     1.722818e+00         1.420923        1.574424    6.937310e-01  \n",
      "2     9.642637e+00         8.297255        8.122331    5.210989e+00  \n",
      "3     1.799341e+01        15.262659       16.852543    1.093284e+01  \n",
      "4     2.734917e+01        23.735419       24.401992    1.644862e+01  \n",
      "5     3.744126e+01        29.694418       33.630928    2.223828e+01  \n",
      "6     4.528879e+01        36.479971       41.821362    2.726294e+01  \n",
      "7     5.203549e+01        44.904485       47.823286    3.386632e+01  \n",
      "   image_num   Time/min   002 peak      100 peak      102 peak      103 peak  \\\n",
      "0          1  -0.372150   0.577078  2.041410e-12  1.553126e-13  1.469458e-14   \n",
      "1          2   3.624967   4.146771  1.483456e+00  5.841648e-01  1.722818e+00   \n",
      "2          3   7.628767  17.183406  9.071206e+00  6.728276e+00  9.642637e+00   \n",
      "3          4  11.625967  34.816931  2.268983e+01  1.473409e+01  1.799341e+01   \n",
      "4          5  15.626283  55.764374  3.547012e+01  2.377700e+01  2.734917e+01   \n",
      "5          6  19.626850  69.110028  4.392660e+01  3.152941e+01  3.744126e+01   \n",
      "6          7  23.623900  87.666107  5.522284e+01  3.752609e+01  4.528879e+01   \n",
      "7          8  27.624400  96.823899  7.652955e+01  4.414821e+01  5.203549e+01   \n",
      "\n",
      "    110 peak   112 peak      201 peak  \n",
      "0   0.000000   0.259616  3.878950e-14  \n",
      "1   1.420923   1.574424  6.937310e-01  \n",
      "2   8.297255   8.122331  5.210989e+00  \n",
      "3  15.262659  16.852543  1.093284e+01  \n",
      "4  23.735419  24.401992  1.644862e+01  \n",
      "5  29.694418  33.630928  2.223828e+01  \n",
      "6  36.479971  41.821362  2.726294e+01  \n",
      "7  44.904485  47.823286  3.386632e+01  \n",
      "\n",
      "\n",
      "Done! All results saved! ^^\n"
     ]
    },
    {
     "data": {
      "image/png": "[encoded data removed]",
      "text/plain": [
       "<Figure size 648x432 with 1 Axes>"
      ]
     },
     "metadata": {
      "needs_background": "light"
     },
     "output_type": "display_data"
    },
    {
     "data": {
      "image/png": "[encoded data removed]",
      "text/plain": [
       "<Figure size 648x432 with 1 Axes>"
      ]
     },
     "metadata": {
      "needs_background": "light"
     },
     "output_type": "display_data"
    }
   ],
   "source": [
    "file_path=r'D:\\APS2022Nov\\YM_Zn_depo\\YM_Zn_depo1_2cmZn_Cusub_1MZnSO4\\YM_Zn_depo1_2cmZn_Cusub_1MZnSO4_S1'\n",
    "\n",
    "file=r'YM_Zn_depo1_2cmZn_Cusub_1MZnSO4_S1_P8.csv'\n",
    "\n",
    "start_depo='11/09/2022 03:46:08 AM'\n",
    "\n",
    "intervals= [(5.46,5.71), (5.8,6.2), (8.0,8.35), (10.05,10.6),(11.6,11.905),(12.15,12.48)]\n",
    "\n",
    "# 002, 100, 102, 103-110, 112, 201 \n",
    "\n",
    "file_path_meta=r'D:\\APS2022Nov\\YM_Zn_depo\\YM_Zn_depo1_2cmZn_Cusub_1MZnSO4\\YM_Zn_depo1_raw_data\\S1P8'\n",
    "\n",
    "do_all(file_path, file, start_depo, intervals, file_path_meta)"
   ]
  },
  {
   "cell_type": "code",
   "execution_count": null,
   "metadata": {},
   "outputs": [],
   "source": []
  }
 ],
 "metadata": {
  "kernelspec": {
   "display_name": "base",
   "language": "python",
   "name": "python3"
  },
  "language_info": {
   "codemirror_mode": {
    "name": "ipython",
    "version": 3
   },
   "file_extension": ".py",
   "mimetype": "text/x-python",
   "name": "python",
   "nbconvert_exporter": "python",
   "pygments_lexer": "ipython3",
   "version": "3.8.3"
  },
  "orig_nbformat": 4,
  "vscode": {
   "interpreter": {
    "hash": "ad2bdc8ecc057115af97d19610ffacc2b4e99fae6737bb82f5d7fb13d2f2c186"
   }
  }
 },
 "nbformat": 4,
 "nbformat_minor": 2
}
